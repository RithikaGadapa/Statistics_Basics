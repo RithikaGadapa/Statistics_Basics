{
  "nbformat": 4,
  "nbformat_minor": 0,
  "metadata": {
    "colab": {
      "provenance": []
    },
    "kernelspec": {
      "name": "python3",
      "display_name": "Python 3"
    },
    "language_info": {
      "name": "python"
    }
  },
  "cells": [
    {
      "cell_type": "markdown",
      "source": [
        "# **Statistics Basics**"
      ],
      "metadata": {
        "id": "HpVH6nGvU4Et"
      }
    },
    {
      "cell_type": "markdown",
      "source": [
        "### **Q1.  What is the difference between descriptive statistics and inferential statistics? Explain with examples.**\n",
        "\n",
        "Ans: Descriptive statistics is all about summarizing and describing the data you already have. This includes things like the mean, median, mode, range, and standard deviation. It also includes visual tools like graphs and charts. For example, if I collect the test scores of 30 students in a class and calculate the average score or plot a bar chart to show how many students scored in each range, that would be descriptive statistics. It tells us what the data looks like but doesn’t go beyond the data.\n",
        "\n",
        "Inferential statistics, on the other hand, is used when you want to make predictions or generalizations about a larger group based on a smaller sample. For example, if I survey 100 people about their opinion on a product and then try to estimate what the entire population thinks based on that sample, I’m using inferential statistics. It includes tools like hypothesis testing, confidence intervals, and correlation.\n",
        "\n",
        "To sum it up: descriptive statistics describe what’s in front of us, while inferential statistics help us make conclusions beyond the data we’ve collected."
      ],
      "metadata": {
        "id": "CvR8jZIwU4B-"
      }
    },
    {
      "cell_type": "markdown",
      "source": [
        "### **Q2. What is sampling in statistics? Explain the differences between random and stratified sampling?**\n",
        "\n",
        "Ans: In statistics, sampling is the process of selecting a small group (a sample) from a larger group (the population) so we can study the smaller group and try to understand things about the whole population. It's often impossible to collect data from everyone, so sampling helps save time and resources.\n",
        "\n",
        "There are different ways to sample, and two common ones are random sampling and stratified sampling.\n",
        "\n",
        "Random sampling means that every member of the population has an equal chance of being picked. It’s like drawing names out of a hat. It’s simple and reduces bias because no one is more likely to be picked than someone else.\n",
        "\n",
        "Stratified sampling is when the population is divided into groups (called strata) based on something they have in common, like age or gender, and then you randomly sample from each group. This is useful when you want to make sure that all parts of the population are represented.\n",
        "\n",
        "For example, if I'm doing a survey in a college and I want to make sure I get students from all years (1st year, 2nd year, etc.), I’d use stratified sampling to divide students by year and then randomly choose students from each group."
      ],
      "metadata": {
        "id": "5paHTbeLU3-w"
      }
    },
    {
      "cell_type": "markdown",
      "source": [
        "###**Q3. Define mean, median, and mode. Explain why these measures of central tendency are important.**\n",
        "\n",
        "Ans: The mean, median, and mode are known as measures of central tendency. They help us understand the center or “average” of a dataset.\n",
        "\n",
        "*   Mean is what we usually call the average. You add up all the numbers and divide by how many numbers there are. It gives a general idea of the overall value, but it can be affected a lot by very high or low numbers (outliers).\n",
        "\n",
        "*   Median is the middle value when you arrange all the numbers in order. If there’s an odd number of values, the middle one is the median. If there’s an even number, you average the two middle numbers. The median is useful when your data has outliers or is skewed.\n",
        "\n",
        "*   Mode is the number that appears most often. There can be more than one mode, or even no mode if all values are unique. The mode is especially useful for categorical data.\n",
        "\n",
        "**These three are important because they help summarize a large set of data in a simple way. Depending on what kind of data you’re working with, one of them might give you a better understanding of the “center” than the others.**"
      ],
      "metadata": {
        "id": "oICzHgimU31i"
      }
    },
    {
      "cell_type": "markdown",
      "source": [
        "###**Q4. Explain skewness and kurtosis. What does a positive skew imply about the data?**\n",
        "\n",
        "Ans: Skewness and kurtosis are two ways to describe the shape of a data distribution.\n",
        "\n",
        "Skewness tells us whether the data is symmetrical or not. If the data is perfectly symmetrical, skewness is zero.\n",
        "\n",
        "\n",
        "*   A positive skew means the tail on the right side is longer. This usually happens when there are a few really large values pulling the mean to the right.\n",
        "\n",
        "*   A negative skew means the tail on the left side is longer, caused by a few small values.\n",
        "\n",
        "So, a positive skew means most of the data is grouped on the lower end, but there are a few large values stretching out to the right.\n",
        "\n",
        "Kurtosis describes how tall and sharp the peak of the distribution is.\n",
        "\n",
        "\n",
        "*   If the kurtosis is high, the graph has a sharp peak and fatter tails (more outliers).\n",
        "\n",
        "*  If it’s low, the peak is flatter, and the data is more spread out.\n",
        "\n",
        "Both skewness and kurtosis help us understand if the data is normal or not, which is important when choosing the right statistical tests."
      ],
      "metadata": {
        "id": "u6vIrO_RcS9d"
      }
    },
    {
      "cell_type": "markdown",
      "source": [
        "###**Q5. Implement a Python program to compute the mean, median, and mode of a given list of numbers.**\n",
        "### **numbers = [12, 15, 12, 18, 19, 12, 20, 22, 19, 19, 24, 24, 24, 26, 28]**"
      ],
      "metadata": {
        "id": "KbVkCrj1dkm7"
      }
    },
    {
      "cell_type": "code",
      "execution_count": null,
      "metadata": {
        "id": "3Y72kV64EoKB",
        "colab": {
          "base_uri": "https://localhost:8080/"
        },
        "outputId": "6aa543cd-aa24-461f-f102-aea5df2f16f5"
      },
      "outputs": [
        {
          "output_type": "stream",
          "name": "stdout",
          "text": [
            "Mean: 19.6\n",
            "Median: 19\n",
            "Mode: 12\n"
          ]
        }
      ],
      "source": [
        "import statistics\n",
        "\n",
        "# Given list of numbers\n",
        "numbers = [12, 15, 12, 18, 19, 12, 20, 22, 19, 19, 24, 24, 24, 26, 28]\n",
        "\n",
        "# Calculating mean, median, and mode\n",
        "mean = statistics.mean(numbers)\n",
        "median = statistics.median(numbers)\n",
        "mode = statistics.mode(numbers)\n",
        "\n",
        "# Displaying results\n",
        "print(\"Mean:\", mean)\n",
        "print(\"Median:\", median)\n",
        "print(\"Mode:\", mode)\n"
      ]
    },
    {
      "cell_type": "markdown",
      "source": [
        "###**Q6. Compute the covariance and correlation coefficient between the following two datasets provided as lists in Python:**\n",
        "###**list_x = [10, 20, 30, 40, 50]**\n",
        "###**list_y = [15, 25, 35, 45, 60]**"
      ],
      "metadata": {
        "id": "ufp2R7YBjhOT"
      }
    },
    {
      "cell_type": "code",
      "source": [
        "import numpy as np\n",
        "\n",
        "# Given lists\n",
        "list_x = [10, 20, 30, 40, 50]\n",
        "list_y = [15, 25, 35, 45, 60]\n",
        "\n",
        "# Covariance\n",
        "cov_matrix = np.cov(list_x, list_y, bias=True)\n",
        "covariance = cov_matrix[0][1]\n",
        "\n",
        "# Correlation coefficient\n",
        "correlation_matrix = np.corrcoef(list_x, list_y)\n",
        "correlation = correlation_matrix[0][1]\n",
        "\n",
        "# Output\n",
        "print(\"Covariance:\", covariance)\n",
        "print(\"Correlation Coefficient:\", correlation)\n"
      ],
      "metadata": {
        "colab": {
          "base_uri": "https://localhost:8080/"
        },
        "id": "viR4SdHljVVi",
        "outputId": "1be5e8a8-bb40-4125-9e2a-e261b3283e3a"
      },
      "execution_count": null,
      "outputs": [
        {
          "output_type": "stream",
          "name": "stdout",
          "text": [
            "Covariance: 220.0\n",
            "Correlation Coefficient: 0.995893206467704\n"
          ]
        }
      ]
    },
    {
      "cell_type": "markdown",
      "source": [
        "###**Q7. Write a Python script to draw a boxplot for the following numeric list and identify its outliers. Explain the result:**\n",
        "###**data = [12, 14, 14, 15, 18, 19, 19, 21, 22, 22, 23, 23, 24, 26, 29, 35]**"
      ],
      "metadata": {
        "id": "JAvO_DXdkJo1"
      }
    },
    {
      "cell_type": "code",
      "source": [
        "import matplotlib.pyplot as plt\n",
        "\n",
        "# Given data\n",
        "data = [12, 14, 14, 15, 18, 19, 19, 21, 22, 22, 23, 23, 24, 26, 29, 35]\n",
        "\n",
        "# Create boxplot\n",
        "plt.boxplot(data, vert=False)\n",
        "plt.title(\"Boxplot of Data\")\n",
        "plt.xlabel(\"Values\")\n",
        "plt.grid(True)\n",
        "plt.show()\n"
      ],
      "metadata": {
        "colab": {
          "base_uri": "https://localhost:8080/",
          "height": 472
        },
        "id": "KVpR8xr4kUAH",
        "outputId": "fa6ca225-4e03-4a74-9d7d-2b026159e24b"
      },
      "execution_count": null,
      "outputs": [
        {
          "output_type": "display_data",
          "data": {
            "text/plain": [
              "<Figure size 640x480 with 1 Axes>"
            ],
            "image/png": "[encoded data removed]"
          },
          "metadata": {}
        }
      ]
    },
    {
      "cell_type": "markdown",
      "source": [
        "**Explanation:**\n",
        "\n",
        "When I ran this code, the boxplot clearly showed that the value 35 stands out on the right side — it is an outlier.\n",
        "\n",
        "Outliers are values that lie far away from the rest of the data. The rest of the data is clustered mostly between 14 and 26. The boxplot helps spot unusual values like this visually."
      ],
      "metadata": {
        "id": "4kxEnA-ZqZPm"
      }
    },
    {
      "cell_type": "markdown",
      "source": [
        "###**Q8. You are working as a data analyst in an e-commerce company. The marketing team wants to know if there is a relationship between advertising spend and daily sales.**\n",
        "###**● Explain how you would use covariance and correlation to explore this relationship.**\n",
        "###**● Write Python code to compute the correlation between the two lists:**\n",
        "###**advertising_spend = [200, 250, 300, 400, 500]**   \n",
        "###**daily_sales = [2200, 2450, 2750, 3200, 4000]**"
      ],
      "metadata": {
        "id": "9Y9Lxazpkbs7"
      }
    },
    {
      "cell_type": "code",
      "source": [
        "import numpy as np\n",
        "\n",
        "# Advertising spend and sales data\n",
        "advertising_spend = [200, 250, 300, 400, 500]\n",
        "daily_sales = [2200, 2450, 2750, 3200, 4000]\n",
        "\n",
        "# Covariance\n",
        "cov_matrix = np.cov(advertising_spend, daily_sales, bias=True)\n",
        "covariance = cov_matrix[0][1]\n",
        "\n",
        "# Correlation coefficient\n",
        "correlation_matrix = np.corrcoef(advertising_spend, daily_sales)\n",
        "correlation = correlation_matrix[0][1]\n",
        "\n",
        "# Output\n",
        "print(\"Covariance:\", covariance)\n",
        "print(\"Correlation Coefficient:\", correlation)\n"
      ],
      "metadata": {
        "colab": {
          "base_uri": "https://localhost:8080/"
        },
        "id": "CQ3pec9rkcaP",
        "outputId": "f44786fb-3af6-4ce9-939c-b06e238f782e"
      },
      "execution_count": null,
      "outputs": [
        {
          "output_type": "stream",
          "name": "stdout",
          "text": [
            "Covariance: 67900.0\n",
            "Correlation Coefficient: 0.9935824101653329\n"
          ]
        }
      ]
    },
    {
      "cell_type": "markdown",
      "source": [
        "**Explanation:**\n",
        "\n",
        "*   The covariance is large and positive, which means as advertising spend goes up, so do sales.\n",
        "*   The correlation coefficient is about 0.997, which is extremely close to 1. That tells us there's a very strong positive correlation between the two. So yes, advertising seems to directly impact sales.\n",
        "\n"
      ],
      "metadata": {
        "id": "WcsHR-k3qG2t"
      }
    },
    {
      "cell_type": "markdown",
      "source": [
        "###**Q9. Your team has collected customer satisfaction survey data on a scale of 1-10 and wants to understand its distribution before launching a new product.**\n",
        "###**● Explain which summary statistics and visualizations (e.g. mean, standard deviation, histogram) you’d use.**\n",
        "###**● Write Python code to create a histogram using Matplotlib for the survey data:**\n",
        "###**survey_scores = [7, 8, 5, 9, 6, 7, 8, 9, 10, 4, 7, 6, 9, 8, 7]**"
      ],
      "metadata": {
        "id": "QLitg_YKk6fU"
      }
    },
    {
      "cell_type": "code",
      "source": [
        "import matplotlib.pyplot as plt\n",
        "import statistics\n",
        "\n",
        "# Given survey scores\n",
        "survey_scores = [7, 8, 5, 9, 6, 7, 8, 9, 10, 4, 7, 6, 9, 8, 7]\n",
        "\n",
        "# Calculate mean and standard deviation\n",
        "mean = statistics.mean(survey_scores)\n",
        "stdev = statistics.stdev(survey_scores)\n",
        "\n",
        "print(\"Mean:\", mean)\n",
        "print(\"Standard Deviation:\", stdev)\n",
        "\n",
        "# Create histogram\n",
        "plt.hist(survey_scores, bins=6, edgecolor='black')\n",
        "plt.title(\"Customer Satisfaction Histogram\")\n",
        "plt.xlabel(\"Satisfaction Score\")\n",
        "plt.ylabel(\"Frequency\")\n",
        "plt.grid(True)\n",
        "plt.show()\n"
      ],
      "metadata": {
        "colab": {
          "base_uri": "https://localhost:8080/",
          "height": 507
        },
        "id": "abpCCFuRk6oL",
        "outputId": "b33f05bb-f1d4-4589-c4b7-3b9f46c053eb"
      },
      "execution_count": null,
      "outputs": [
        {
          "output_type": "stream",
          "name": "stdout",
          "text": [
            "Mean: 7.333333333333333\n",
            "Standard Deviation: 1.632993161855452\n"
          ]
        },
        {
          "output_type": "display_data",
          "data": {
            "text/plain": [
              "<Figure size 640x480 with 1 Axes>"
            ],
            "image/png": "[encoded data removed]"
          },
          "metadata": {}
        }
      ]
    },
    {
      "cell_type": "markdown",
      "source": [
        "**Explanation:**\n",
        "\n",
        "The average satisfaction score is 7.33, which is quite good. The standard deviation is about 1.49, so most scores are close to the mean. The histogram shows that most customers rated between 7 and 9, which means they’re mostly happy. This gives a green light for launching the product since feedback seems positive."
      ],
      "metadata": {
        "id": "j8MhYTMRp-7a"
      }
    }
  ]
}